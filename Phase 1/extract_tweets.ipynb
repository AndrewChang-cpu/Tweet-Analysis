{
 "cells": [
  {
   "cell_type": "code",
   "execution_count": 1,
   "metadata": {},
   "outputs": [],
   "source": [
    "import json"
   ]
  },
  {
   "cell_type": "code",
   "execution_count": 2,
   "metadata": {},
   "outputs": [],
   "source": [
    "# Load the JSON file containing multiple tweets\n",
    "tweets = []\n",
    "with open(\"../data/data1.json\", \"r\", encoding=\"utf-8\") as f:\n",
    "    for line in f:\n",
    "        tweets.append(json.loads(line.strip()))"
   ]
  },
  {
   "cell_type": "code",
   "execution_count": 4,
   "metadata": {},
   "outputs": [],
   "source": [
    "def extract_urls(obj, collected_urls):\n",
    "    \"\"\"\n",
    "    Recursively searches for any key containing 'url' in a nested dictionary or list\n",
    "    and adds its value to collected_urls.\n",
    "    \"\"\"\n",
    "    if isinstance(obj, dict):\n",
    "        for key, value in obj.items():\n",
    "            if \"url\" in key and isinstance(value, str):\n",
    "                collected_urls.append(value)\n",
    "            extract_urls(value, collected_urls)\n",
    "    elif isinstance(obj, list):\n",
    "        for item in obj:\n",
    "            extract_urls(item, collected_urls)\n",
    "\n",
    "# Extract all URLs from every field\n",
    "all_urls = []\n",
    "for tweet in tweets:\n",
    "    extract_urls(tweet, all_urls)\n",
    "# print(all_urls)"
   ]
  },
  {
   "cell_type": "code",
   "execution_count": 8,
   "metadata": {},
   "outputs": [
    {
     "data": {
      "text/plain": [
       "['http://pbs.twimg.com/profile_images/1615050353162215424/JJFJvIcV_normal.jpg',\n",
       " 'https://pbs.twimg.com/profile_images/1615050353162215424/JJFJvIcV_normal.jpg',\n",
       " 'https://pbs.twimg.com/profile_banners/1615048010500837376/1673892996',\n",
       " 'http://pbs.twimg.com/profile_images/1621855913232449537/L-_HXAlm_normal.jpg',\n",
       " 'https://pbs.twimg.com/profile_images/1621855913232449537/L-_HXAlm_normal.jpg']"
      ]
     },
     "execution_count": 8,
     "metadata": {},
     "output_type": "execute_result"
    }
   ],
   "source": [
    "len(all_urls)\n",
    "all_urls[:5]"
   ]
  },
  {
   "cell_type": "code",
   "execution_count": null,
   "metadata": {},
   "outputs": [],
   "source": [
    "# Extract hashtags\n",
    "all_hashtags = [ht[\"text\"] for tweet in tweets for ht in tweet.get(\"entities\", {}).get(\"hashtags\", [])]\n",
    "print(all_hashtags)"
   ]
  }
 ],
 "metadata": {
  "kernelspec": {
   "display_name": "ci",
   "language": "python",
   "name": "python3"
  },
  "language_info": {
   "codemirror_mode": {
    "name": "ipython",
    "version": 3
   },
   "file_extension": ".py",
   "mimetype": "text/x-python",
   "name": "python",
   "nbconvert_exporter": "python",
   "pygments_lexer": "ipython3",
   "version": "3.12.3"
  }
 },
 "nbformat": 4,
 "nbformat_minor": 2
}
